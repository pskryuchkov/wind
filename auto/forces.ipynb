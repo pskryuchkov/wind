{
 "cells": [
  {
   "cell_type": "code",
   "execution_count": 1,
   "metadata": {},
   "outputs": [],
   "source": [
    "import matplotlib.pyplot as plt\n",
    "from support import load_forces"
   ]
  },
  {
   "cell_type": "code",
   "execution_count": 2,
   "metadata": {},
   "outputs": [],
   "source": [
    "data = load_forces(\"forces/lambo.dat\")\n",
    "\n",
    "p_width, p_height = 17, 5"
   ]
  },
  {
   "cell_type": "code",
   "execution_count": null,
   "metadata": {},
   "outputs": [],
   "source": [
    "plt.figure(figsize=(p_width, p_height))\n",
    "plt.plot(data['time'], data['pr_force_x'])\n",
    "plt.plot(data['time'], data['pr_force_y'])\n",
    "plt.plot(data['time'], data['pr_force_z'])\n",
    "plt.title(\"Pressure forces\")\n",
    "plt.legend(['x', 'y', 'z'])\n",
    "plt.grid(True)"
   ]
  },
  {
   "cell_type": "code",
   "execution_count": null,
   "metadata": {},
   "outputs": [],
   "source": [
    "plt.figure(figsize=(p_width, p_height))\n",
    "plt.plot(data['time'], data['vi_force_x'])\n",
    "plt.plot(data['time'], data['vi_force_y'])\n",
    "plt.plot(data['time'], data['vi_force_z'])\n",
    "plt.title(\"Viscous forces\")\n",
    "plt.legend(['x', 'y', 'z'])\n",
    "plt.grid(True)"
   ]
  },
  {
   "cell_type": "code",
   "execution_count": null,
   "metadata": {},
   "outputs": [],
   "source": [
    "plt.figure(figsize=(p_width, p_height))\n",
    "plt.plot(data['time'], data['pr_moment_x'])\n",
    "plt.plot(data['time'], data['pr_moment_y'])\n",
    "plt.plot(data['time'], data['pr_moment_z'])\n",
    "plt.title(\"Pressure moment\")\n",
    "plt.legend(['x', 'y', 'z'])\n",
    "plt.grid(True)"
   ]
  },
  {
   "cell_type": "code",
   "execution_count": null,
   "metadata": {},
   "outputs": [],
   "source": [
    "plt.figure(figsize=(p_width, p_height))\n",
    "plt.plot(data['time'], data['vi_moment_x'])\n",
    "plt.plot(data['time'], data['vi_moment_y'])\n",
    "plt.plot(data['time'], data['vi_moment_z'])\n",
    "plt.title(\"Viscous moment\")\n",
    "plt.legend(['x', 'y', 'z'])\n",
    "plt.grid(True)"
   ]
  }
 ],
 "metadata": {
  "kernelspec": {
   "display_name": "Python 3",
   "language": "python",
   "name": "python3"
  },
  "language_info": {
   "codemirror_mode": {
    "name": "ipython",
    "version": 3
   },
   "file_extension": ".py",
   "mimetype": "text/x-python",
   "name": "python",
   "nbconvert_exporter": "python",
   "pygments_lexer": "ipython3",
   "version": "3.6.2"
  }
 },
 "nbformat": 4,
 "nbformat_minor": 2
}
