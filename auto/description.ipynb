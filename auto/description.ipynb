{
 "cells": [
  {
   "cell_type": "code",
   "execution_count": null,
   "metadata": {},
   "outputs": [],
   "source": [
    "%%latex\n",
    "$$\\;\\textbf{Formulas}$$\n",
    "$$$$\n",
    "$$\\nabla \\vec{U} = 0 \\quad\\text{(incompressible flow)}$$\n",
    "$$$$\n",
    "$$\\frac{\\partial\\vec{U}}{\\partial t} +(\\vec{U}\\nabla) \\vec{U}= \n",
    "            -\\frac{1}{\\rho}\\nabla p + v\\Delta\\vec{U}\n",
    "    \\quad\\text{(Navier-Stocks equation)}$$\n",
    "$$$$\n",
    "$$Re=\\frac{L\\,\\cdot U}{\\nu} \\quad\\text{(Reynolds number)}$$\n",
    "$$$$\n",
    "$$\\vec{F}_{drag} = (\\vec{F}_{pressure})_x + (\\vec{F}_{viscosity})_x \\quad\\text{(drag force)}$$\n",
    "$$$$\n",
    "$$\\vec{F}_{lift} = (\\vec{F}_{pressure})_y + (\\vec{F}_{viscosity})_y \\quad\\text{(lift force)}$$\n"
   ]
  },
  {
   "cell_type": "code",
   "execution_count": null,
   "metadata": {},
   "outputs": [],
   "source": [
    "%%latex\n",
    "$$\\;\\textbf{Values}$$\n",
    "$$$$\n",
    "$$U_x = 28 \\; m\\,/\\,s = 100 \\; km\\,/\\,h \\quad\\text{(flow velocity)}$$\n",
    "$$$$\n",
    "$$\\rho = 1.20 \\; kg \\, / \\,m^3 \\quad\\text{(air density at } 20\\,^\\circ\\,\\text{C)} $$\n",
    "$$$$\n",
    "$$\\nu = 1.51 \\cdot 10^{-5} \\; m^2\\,/\\,s \\quad \\text{(air viscosity at } 20\\,^\\circ\\,\\text{C)} $$\n",
    "$$$$\n",
    "$$\\varepsilon = 14.855 \\; m^2 \\, / \\,s^3 \\quad \\text{(}k\\text{-}\\varepsilon\\text{ turbulent model)}$$ "
   ]
  }
 ],
 "metadata": {
  "kernelspec": {
   "display_name": "Python 3",
   "language": "python",
   "name": "python3"
  },
  "language_info": {
   "codemirror_mode": {
    "name": "ipython",
    "version": 3
   },
   "file_extension": ".py",
   "mimetype": "text/x-python",
   "name": "python",
   "nbconvert_exporter": "python",
   "pygments_lexer": "ipython3",
   "version": "3.6.2"
  }
 },
 "nbformat": 4,
 "nbformat_minor": 2
}
