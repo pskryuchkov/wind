{
 "cells": [
  {
   "cell_type": "code",
   "execution_count": 31,
   "metadata": {},
   "outputs": [],
   "source": [
    "from support import load_forces, draw_shape\n",
    "import matplotlib.pyplot as plt"
   ]
  },
  {
   "cell_type": "code",
   "execution_count": 42,
   "metadata": {},
   "outputs": [],
   "source": [
    "cases = [\"sharp\", \"smooth\", \"lambo\"]\n",
    "forces_files = list(map(lambda x: \"forces/\" + x + \".dat\", cases))\n",
    "shapes_files = list(map(lambda x: \"shapes/\" + x + \".dat\", cases))\n",
    "\n",
    "data1 = load_forces(forces_files[0])\n",
    "data2 = load_forces(forces_files[1])\n",
    "data3 = load_forces(forces_files[2])\n",
    "\n",
    "drag1 = data1[\"pr_force_x\"] + data1[\"vi_force_x\"]\n",
    "drag2 = data2[\"pr_force_x\"] + data2[\"vi_force_x\"]\n",
    "drag3 = data3[\"pr_force_x\"] + data3[\"vi_force_x\"]\n",
    "\n",
    "lift1 = data1[\"pr_force_y\"] + data1[\"vi_force_y\"]\n",
    "lift2 = data2[\"pr_force_y\"] + data2[\"vi_force_y\"]\n",
    "lift3 = data3[\"pr_force_y\"] + data3[\"vi_force_y\"]\n",
    "\n",
    "mom_x1 = data1[\"pr_moment_z\"] + data1[\"vi_moment_z\"]\n",
    "mom_x2 = data2[\"pr_moment_z\"] + data2[\"vi_moment_z\"]\n",
    "mom_x3 = data3[\"pr_moment_z\"] + data3[\"vi_moment_z\"]\n",
    "\n",
    "p_width, p_height = 17, 5"
   ]
  },
  {
   "cell_type": "code",
   "execution_count": null,
   "metadata": {},
   "outputs": [],
   "source": [
    "draw_shape(shapes_files[0], \"C1\")"
   ]
  },
  {
   "cell_type": "code",
   "execution_count": null,
   "metadata": {},
   "outputs": [],
   "source": [
    "draw_shape(shapes_files[1], \"C2\")"
   ]
  },
  {
   "cell_type": "code",
   "execution_count": null,
   "metadata": {},
   "outputs": [],
   "source": [
    "draw_shape(shapes_files[2], \"C3\")"
   ]
  },
  {
   "cell_type": "code",
   "execution_count": null,
   "metadata": {},
   "outputs": [],
   "source": [
    "plt.figure(figsize=(p_width, p_height))\n",
    "plt.plot(data1[\"time\"], drag1, c=\"C1\")\n",
    "plt.plot(data2[\"time\"], drag2, c=\"C2\")\n",
    "plt.plot(data3[\"time\"], drag3, c=\"C3\")\n",
    "plt.title(\"Drag force\", style='italic')\n",
    "plt.legend(cases)\n",
    "plt.grid(True)"
   ]
  },
  {
   "cell_type": "code",
   "execution_count": null,
   "metadata": {},
   "outputs": [],
   "source": [
    "plt.figure(figsize=(p_width, p_height))\n",
    "plt.plot(data1[\"time\"], lift1, c=\"C0\")\n",
    "plt.plot(data2[\"time\"], lift2, c=\"C1\")\n",
    "plt.plot(data3[\"time\"], lift3, c=\"C2\")\n",
    "plt.title(\"Lift force\", style='italic')\n",
    "plt.legend(cases)\n",
    "plt.grid(True)"
   ]
  },
  {
   "cell_type": "code",
   "execution_count": null,
   "metadata": {},
   "outputs": [],
   "source": [
    "plt.figure(figsize=(p_width, p_height))\n",
    "plt.plot(data1[\"time\"], mom_x1, c=\"C1\")\n",
    "plt.plot(data2[\"time\"], mom_x2, c=\"C2\")\n",
    "plt.plot(data3[\"time\"], mom_x3, c=\"C3\")\n",
    "plt.title(\"Pressure moment\", style='italic')\n",
    "plt.legend(cases)\n",
    "plt.grid(True)"
   ]
  }
 ],
 "metadata": {
  "kernelspec": {
   "display_name": "Python 3",
   "language": "python",
   "name": "python3"
  },
  "language_info": {
   "codemirror_mode": {
    "name": "ipython",
    "version": 3
   },
   "file_extension": ".py",
   "mimetype": "text/x-python",
   "name": "python",
   "nbconvert_exporter": "python",
   "pygments_lexer": "ipython3",
   "version": "3.6.2"
  }
 },
 "nbformat": 4,
 "nbformat_minor": 2
}
