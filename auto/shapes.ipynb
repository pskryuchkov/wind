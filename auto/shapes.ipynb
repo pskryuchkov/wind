{
 "cells": [
  {
   "cell_type": "code",
   "execution_count": 193,
   "metadata": {},
   "outputs": [],
   "source": [
    "from support import load_forces, draw_shape\n",
    "import matplotlib.pyplot as plt"
   ]
  },
  {
   "cell_type": "code",
   "execution_count": null,
   "metadata": {},
   "outputs": [],
   "source": [
    "%%latex\n",
    "$$\\quad\\quad\\quad\\quad\\textbf{Case Description}$$\n",
    "$$$$\n",
    "$$\\frac{d\\vec{u}}{dt}=-\\vec{u}(\\nabla \\vec{u}) + \n",
    "            v\\Delta\\vec{u}-\\frac{1}{\\rho}\\nabla p + \\vec{f}\n",
    "    \\quad\\text{(Navier-Stocks equation)}$$\n",
    "$$$$\n",
    "$$Re=\\frac{d\\,\\cdot u}{\\nu} \\quad\\text{(Reynolds number)}$$\n",
    "$$$$\n",
    "$$u_x = 28 \\; m\\,/\\,s = 100 \\; km\\,/\\,h \\quad\\text{(flow velocity)}$$\n",
    "$$$$\n",
    "$$\\varepsilon = 14.855 \\; m^2 \\, / \\,s^3 \\quad \\text{(}k\\text{-}\\varepsilon\\text{ turbulent model)}$$ \n",
    "$$$$\n",
    "$$\\rho = 1.225 \\; kg \\, / \\,m^3 \\quad\\text{(air density at } 0\\,^\\circ\\,\\text{C)} $$\n",
    "$$$$\n",
    "$$\\nu = 1.5 \\cdot 10^{-5} \\; m^2\\,/\\,s \\quad \\text{(viscosity)}$$"
   ]
  },
  {
   "cell_type": "code",
   "execution_count": null,
   "metadata": {},
   "outputs": [],
   "source": [
    "data1 = load_forces(\"../cases/forces1.dat\")\n",
    "data2 = load_forces(\"../cases/forces2.dat\")\n",
    "data3 = load_forces(\"../cases/forces3.dat\")\n",
    "\n",
    "drag1 = data1[\"pr_force_x\"] + data1[\"vi_force_x\"]\n",
    "drag2 = data2[\"pr_force_x\"] + data2[\"vi_force_x\"]\n",
    "drag3 = data3[\"pr_force_x\"] + data3[\"vi_force_x\"]\n",
    "\n",
    "lift1 = data1[\"pr_force_y\"] + data1[\"vi_force_y\"]\n",
    "lift2 = data2[\"pr_force_y\"] + data2[\"vi_force_y\"]\n",
    "lift3 = data3[\"pr_force_y\"] + data3[\"vi_force_y\"]\n",
    "\n",
    "mom_x1 = data1[\"pr_moment_z\"] + data1[\"vi_moment_z\"]\n",
    "mom_x2 = data2[\"pr_moment_z\"] + data2[\"vi_moment_z\"]\n",
    "mom_x3 = data3[\"pr_moment_z\"] + data3[\"vi_moment_z\"]\n",
    "\n",
    "p_width, p_height = 17, 5"
   ]
  },
  {
   "cell_type": "code",
   "execution_count": null,
   "metadata": {},
   "outputs": [],
   "source": [
    "draw_shape(\"../car_sharp.dat\", \"C1\")"
   ]
  },
  {
   "cell_type": "code",
   "execution_count": null,
   "metadata": {},
   "outputs": [],
   "source": [
    "draw_shape(\"../car_smooth.dat\", \"C2\")"
   ]
  },
  {
   "cell_type": "code",
   "execution_count": null,
   "metadata": {},
   "outputs": [],
   "source": [
    "draw_shape(\"../car3.dat\", \"C3\")"
   ]
  },
  {
   "cell_type": "code",
   "execution_count": null,
   "metadata": {},
   "outputs": [],
   "source": [
    "plt.figure(figsize=(p_width, p_height))\n",
    "plt.plot(data1[\"time\"], drag1, c=\"C1\")\n",
    "plt.plot(data2[\"time\"], drag2, c=\"C2\")\n",
    "plt.plot(data3[\"time\"], drag3, c=\"C3\")\n",
    "plt.legend([\"1\", \"2\", \"3\"])\n",
    "plt.title(\"Drag force\", style='italic')\n",
    "plt.grid(True)"
   ]
  },
  {
   "cell_type": "code",
   "execution_count": null,
   "metadata": {},
   "outputs": [],
   "source": [
    "plt.figure(figsize=(p_width, p_height))\n",
    "plt.plot(data1[\"time\"], lift1, c=\"C0\")\n",
    "plt.plot(data2[\"time\"], lift2, c=\"C1\")\n",
    "plt.plot(data3[\"time\"], lift3, c=\"C2\")\n",
    "plt.legend([\"1\", \"2\", \"3\"])\n",
    "plt.title(\"Lift force\", style='italic')\n",
    "plt.grid(True)"
   ]
  },
  {
   "cell_type": "code",
   "execution_count": null,
   "metadata": {},
   "outputs": [],
   "source": [
    "plt.figure(figsize=(p_width, p_height))\n",
    "plt.plot(data1[\"time\"], mom_x1, c=\"C1\")\n",
    "plt.plot(data2[\"time\"], mom_x2, c=\"C2\")\n",
    "plt.plot(data3[\"time\"], mom_x3, c=\"C3\")\n",
    "plt.legend([\"1\", \"2\", \"3\"])\n",
    "plt.title(\"Pressure moment\", style='italic')\n",
    "plt.grid(True)"
   ]
  }
 ],
 "metadata": {
  "kernelspec": {
   "display_name": "Python 3",
   "language": "python",
   "name": "python3"
  },
  "language_info": {
   "codemirror_mode": {
    "name": "ipython",
    "version": 3
   },
   "file_extension": ".py",
   "mimetype": "text/x-python",
   "name": "python",
   "nbconvert_exporter": "python",
   "pygments_lexer": "ipython3",
   "version": "3.6.2"
  }
 },
 "nbformat": 4,
 "nbformat_minor": 2
}
